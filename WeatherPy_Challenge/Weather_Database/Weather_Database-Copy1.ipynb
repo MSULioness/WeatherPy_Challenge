{
 "cells": [
  {
   "cell_type": "code",
   "execution_count": 3,
   "id": "7b58997a",
   "metadata": {},
   "outputs": [],
   "source": [
    "# Import the requests library.\n",
    "import requests\n",
    "\n",
    "# Import the API key.\n",
    "from config import weather_api_key"
   ]
  },
  {
   "cell_type": "code",
   "execution_count": 4,
   "id": "f2cc16f2",
   "metadata": {},
   "outputs": [
    {
     "name": "stdout",
     "output_type": "stream",
     "text": [
      "http://api.openweathermap.org/data/2.5/weather?units=Imperial&APPID=0da06e16b37d737f62148d1f90ef4eb0\n"
     ]
    }
   ],
   "source": [
    "# Starting URL for Weather Map API Call.\n",
    "url = \"http://api.openweathermap.org/data/2.5/weather?units=Imperial&APPID=\" + weather_api_key\n",
    "print(url)"
   ]
  },
  {
   "cell_type": "code",
   "execution_count": 5,
   "id": "7f83921d",
   "metadata": {},
   "outputs": [
    {
     "name": "stdout",
     "output_type": "stream",
     "text": [
      "http://api.openweathermap.org/data/2.5/weather?units=Imperial&APPID=0da06e16b37d737f62148d1f90ef4eb0&q=Boston\n"
     ]
    }
   ],
   "source": [
    "# Create an endpoint URL for a city.\n",
    "city_url = url + \"&q=\" + \"Boston\"\n",
    "print(city_url)"
   ]
  },
  {
   "cell_type": "code",
   "execution_count": 6,
   "id": "bbcb0c4e",
   "metadata": {},
   "outputs": [],
   "source": [
    "query_url = url + \"appid=\" + weather_api_key + \"&q=\" + city_url"
   ]
  },
  {
   "cell_type": "code",
   "execution_count": 7,
   "id": "89b90632",
   "metadata": {},
   "outputs": [],
   "source": [
    "weather_response = requests.get(query_url)\n",
    "weather_json = weather_response.json()"
   ]
  },
  {
   "cell_type": "code",
   "execution_count": 8,
   "id": "b4c87a10",
   "metadata": {},
   "outputs": [
    {
     "data": {
      "text/plain": [
       "dict_keys(['cod', 'message'])"
      ]
     },
     "execution_count": 8,
     "metadata": {},
     "output_type": "execute_result"
    }
   ],
   "source": [
    "weather_json.keys()"
   ]
  },
  {
   "cell_type": "code",
   "execution_count": 9,
   "id": "c65f0fbd",
   "metadata": {},
   "outputs": [
    {
     "data": {
      "text/plain": [
       "<Response [200]>"
      ]
     },
     "execution_count": 9,
     "metadata": {},
     "output_type": "execute_result"
    }
   ],
   "source": [
    "city_weather = requests.get(city_url)\n",
    "city_weather"
   ]
  },
  {
   "cell_type": "code",
   "execution_count": 10,
   "id": "3ec577c9",
   "metadata": {},
   "outputs": [
    {
     "data": {
      "text/plain": [
       "'{\"coord\":{\"lon\":-71.0598,\"lat\":42.3584},\"weather\":[{\"id\":803,\"main\":\"Clouds\",\"description\":\"broken clouds\",\"icon\":\"04n\"}],\"base\":\"stations\",\"main\":{\"temp\":25.25,\"feels_like\":19.56,\"temp_min\":20.95,\"temp_max\":28.94,\"pressure\":1034,\"humidity\":70},\"visibility\":10000,\"wind\":{\"speed\":4.61,\"deg\":90},\"clouds\":{\"all\":75},\"dt\":1644188005,\"sys\":{\"type\":1,\"id\":3486,\"country\":\"US\",\"sunrise\":1644148344,\"sunset\":1644185057},\"timezone\":-18000,\"id\":4930956,\"name\":\"Boston\",\"cod\":200}'"
      ]
     },
     "execution_count": 10,
     "metadata": {},
     "output_type": "execute_result"
    }
   ],
   "source": [
    "# Get the text of the 'Get' request.\n",
    "city_weather.text"
   ]
  },
  {
   "cell_type": "code",
   "execution_count": 39,
   "id": "1c438281",
   "metadata": {},
   "outputs": [
    {
     "data": {
      "text/plain": [
       "{'coord': {'lon': -71.0598, 'lat': 42.3584},\n",
       " 'weather': [{'id': 801,\n",
       "   'main': 'Clouds',\n",
       "   'description': 'few clouds',\n",
       "   'icon': '02d'}],\n",
       " 'base': 'stations',\n",
       " 'main': {'temp': 20.71,\n",
       "  'feels_like': 13.03,\n",
       "  'temp_min': 16.18,\n",
       "  'temp_max': 25.14,\n",
       "  'pressure': 1038,\n",
       "  'humidity': 61},\n",
       " 'visibility': 10000,\n",
       " 'wind': {'speed': 5.75, 'deg': 290},\n",
       " 'clouds': {'all': 20},\n",
       " 'dt': 1644162614,\n",
       " 'sys': {'type': 2,\n",
       "  'id': 2013408,\n",
       "  'country': 'US',\n",
       "  'sunrise': 1644148344,\n",
       "  'sunset': 1644185057},\n",
       " 'timezone': -18000,\n",
       " 'id': 4930956,\n",
       " 'name': 'Boston',\n",
       " 'cod': 200}"
      ]
     },
     "execution_count": 39,
     "metadata": {},
     "output_type": "execute_result"
    }
   ],
   "source": [
    "# Get the JSON text of the 'Get' request.\n",
    "city_weather.json()"
   ]
  },
  {
   "cell_type": "code",
   "execution_count": null,
   "id": "1148a3f6",
   "metadata": {},
   "outputs": [],
   "source": []
  }
 ],
 "metadata": {
  "kernelspec": {
   "display_name": "PythonData",
   "language": "python",
   "name": "pythondata"
  },
  "language_info": {
   "codemirror_mode": {
    "name": "ipython",
    "version": 3
   },
   "file_extension": ".py",
   "mimetype": "text/x-python",
   "name": "python",
   "nbconvert_exporter": "python",
   "pygments_lexer": "ipython3",
   "version": "3.9.7"
  }
 },
 "nbformat": 4,
 "nbformat_minor": 5
}
