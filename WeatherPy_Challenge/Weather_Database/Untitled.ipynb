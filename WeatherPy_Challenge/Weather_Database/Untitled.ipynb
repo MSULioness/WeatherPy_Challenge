{
 "cells": [
  {
   "cell_type": "code",
   "execution_count": null,
   "id": "826bc193",
   "metadata": {},
   "outputs": [],
   "source": [
    "# Dependencies and Setup\n",
    "import matplotlib.pyplot as plt\n",
    "import pandas as pd\n",
    "import numpy as np\n",
    "from requests.exceptions import ConnectionError\n",
    "import requests\n",
    "import time\n",
    "from pprint import pprint\n",
    "# Import the API key.\n",
    "from config import weather_api_key\n",
    "import os\n",
    "\n",
    "\n",
    "\n",
    "# Output File (CSV)\n",
    "#output_data_file = \"output_data/cities.csv\"\n",
    "\n",
    "# Range of latitudes and longitudes\n",
    "lat_range = (-90, 90)\n",
    "lng_range = (-180, 180)"
   ]
  },
  {
   "cell_type": "code",
   "execution_count": null,
   "id": "2060235c",
   "metadata": {},
   "outputs": [],
   "source": [
    "# Incorporated citipy to determine city based on latitude and longitude\n",
    "import citipy"
   ]
  },
  {
   "cell_type": "code",
   "execution_count": null,
   "id": "ad55c034",
   "metadata": {},
   "outputs": [],
   "source": []
  }
 ],
 "metadata": {
  "kernelspec": {
   "display_name": "Python 3 (ipykernel)",
   "language": "python",
   "name": "python3"
  },
  "language_info": {
   "codemirror_mode": {
    "name": "ipython",
    "version": 3
   },
   "file_extension": ".py",
   "mimetype": "text/x-python",
   "name": "python",
   "nbconvert_exporter": "python",
   "pygments_lexer": "ipython3",
   "version": "3.9.7"
  }
 },
 "nbformat": 4,
 "nbformat_minor": 5
}
