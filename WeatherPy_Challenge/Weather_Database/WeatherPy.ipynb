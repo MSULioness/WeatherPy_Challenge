{
 "cells": [
  {
   "cell_type": "code",
   "execution_count": null,
   "id": "5c13349f",
   "metadata": {},
   "outputs": [],
   "source": [
    "# Import the dependencies.\n",
    "import pandas as pd\n",
    "import matplotlib.pyplot as plt\n",
    "import numpy as np\n",
    "\n",
    "# Incorporated citipy to determine city based on latitude and longitude\n",
    "from citipy import citipy"
   ]
  },
  {
   "cell_type": "code",
   "execution_count": null,
   "id": "afeb0e0c",
   "metadata": {},
   "outputs": [],
   "source": [
    "# Create a set of random latitude and longitude combinations.\n",
    "lats = np.random.uniform(low=-90.000, high=90.000, size=1500)\n",
    "lngs = np.random.uniform(low=-180.000, high=180.000, size=1500)\n",
    "lat_lngs = zip(lats, lngs)\n",
    "lat_lngs"
   ]
  },
  {
   "cell_type": "code",
   "execution_count": null,
   "id": "ef6492ab",
   "metadata": {},
   "outputs": [],
   "source": [
    "# Add the latitudes and longitudes to a list.\n",
    "coordinates = list(lat_lngs)"
   ]
  },
  {
   "cell_type": "code",
   "execution_count": null,
   "id": "1f5b5ded",
   "metadata": {},
   "outputs": [],
   "source": [
    "# Create a list for holding the cities.\n",
    "cities = []\n",
    "# Identify the nearest city for each latitude and longitude combination.\n",
    "for coordinate in coordinates:\n",
    "    city = citipy.nearest_city(coordinate[0], coordinate[1]).city_name\n",
    "\n",
    "    # If the city is unique, then we will add it to the cities list.\n",
    "    if city not in cities:\n",
    "        cities.append(city)\n",
    "# Print the city count to confirm sufficient count.\n",
    "print(cities)"
   ]
  },
  {
   "cell_type": "code",
   "execution_count": null,
   "id": "896b446d",
   "metadata": {},
   "outputs": [],
   "source": [
    "# Starting URL for Weather Map API Call\n",
    "url = \"http://api.openweathermap.org/data/2.5/weather?\"\n",
    "units = \"metric\"\n",
    "\n",
    "# Build partial query URL\n",
    "query_url = f\"{url}appid={api_key}&units={units}&q=\"\n",
    "\n",
    "# initialising lists to hold reponse info     \n",
    "cloudiness = [] \n",
    "country = []     \n",
    "date = []         \n",
    "humidity = []     \n",
    "lat = []       \n",
    "lng = []         \n",
    "max_temp = []     \n",
    "wind_speed = []  \n",
    "city_list = []\n",
    "\n",
    "print('Beginning Data Retrieval')\n",
    "print('---------------------')\n",
    "counter = 1\n",
    "nb_tries = 10\n",
    "# Loop through the list of cities and perform a request for data on each\n",
    "for city in cities:\n",
    "    city_url = query_url + city.replace(' ','+') \n",
    "    response = requests.get(city_url)\n",
    "    print(f'Processing Record {counter} | {city}')\n",
    "    print(city_url)\n",
    "    \n",
    "    try:\n",
    "        response.raise_for_status()\n",
    "        data = response.json()\n",
    "        #print(data) # to check the key structure\n",
    "        time.sleep(1)\n",
    "        city_list.append(city)\n",
    "        cloudiness.append(data['clouds']['all'])\n",
    "        country.append(data['sys']['country'])      \n",
    "        date.append(data['dt'])\n",
    "        humidity.append(data['main']['humidity'])\n",
    "        lat.append(data['coord']['lat'])\n",
    "        lng.append(data['coord']['lon'])\n",
    "        max_temp.append(data['main']['temp_max'])    \n",
    "        wind_speed.append(data['wind']['speed'])\n",
    "    except requests.exceptions.HTTPError as e:\n",
    "        print('City not found. skipping...')\n",
    "        print(str(e))\n",
    "    except ConnectionError as err:\n",
    "        if nb_tries == 0:\n",
    "            raise err\n",
    "        else:\n",
    "            time.sleep(1)\n",
    "    counter +=1\n",
    "    nb_tries -= 1\n",
    "print('---------------------')\n",
    "print('Data Retrieval Complete')    "
   ]
  },
  {
   "cell_type": "code",
   "execution_count": null,
   "id": "8eec0d2e",
   "metadata": {},
   "outputs": [],
   "source": [
    "weather_data_df = pd.DataFrame({\n",
    "     'City':city_list,\n",
    "     'Cloudiness':cloudiness,\n",
    "     'Country':country,\n",
    "     'Date':date,\n",
    "     'Humidity':humidity,\n",
    "     'Lat':lat,\n",
    "     'Lng':lng,\n",
    "     'Max Temperature':max_temp,\n",
    "     'Wind Speed':wind_speed,\n",
    "     })\n",
    " \n",
    "weather_data_df.head()\n",
    "# Output File (CSV)\n",
    "os.makedirs(os.path.join('output_data'),exist_ok=True)\n",
    "output_data_file = os.path.join(\"output_data\",\"cities.csv\")\n",
    "weather_data_df.to_csv(output_data_file)\n",
    "weather_data_df.count()"
   ]
  },
  {
   "cell_type": "code",
   "execution_count": null,
   "id": "1ac9827f",
   "metadata": {},
   "outputs": [],
   "source": []
  }
 ],
 "metadata": {
  "kernelspec": {
   "display_name": "PythonData",
   "language": "python",
   "name": "pythondata"
  },
  "language_info": {
   "codemirror_mode": {
    "name": "ipython",
    "version": 3
   },
   "file_extension": ".py",
   "mimetype": "text/x-python",
   "name": "python",
   "nbconvert_exporter": "python",
   "pygments_lexer": "ipython3",
   "version": "3.9.7"
  }
 },
 "nbformat": 4,
 "nbformat_minor": 5
}
